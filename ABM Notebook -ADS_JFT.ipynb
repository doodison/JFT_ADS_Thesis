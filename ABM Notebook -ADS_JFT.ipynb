{
  "cells": [
    {
      "cell_type": "markdown",
      "metadata": {
        "id": "ocfdd-XzOntv"
      },
      "source": [
        "# Packages"
      ]
    },
    {
      "cell_type": "code",
      "execution_count": null,
      "metadata": {
        "id": "jUnpL6H4Od9Y"
      },
      "outputs": [],
      "source": [
        "!pip install pandas\n",
        "!pip install numpy\n",
        "!pip3 install mesa\n",
        "!pip3 install mesa.time\n",
        "!pip3 install random2\n",
        "\n",
        "import pandas as pd\n",
        "import numpy as np\n",
        "from mesa import Agent, Model\n",
        "import random2\n",
        "import random\n",
        "import copy\n",
        "from itertools import count\n",
        "\n",
        "import matplotlib.pyplot as plt\n",
        "\n",
        "from re import U\n",
        "\n",
        "import numpy as np\n",
        "from scipy.stats import entropy\n",
        "import math\n",
        "from scipy.stats import pearsonr\n",
        "\n"
      ]
    },
    {
      "cell_type": "code",
      "source": [
        "!pip list"
      ],
      "metadata": {
        "id": "aPuPd91yw8yn"
      },
      "execution_count": null,
      "outputs": []
    },
    {
      "cell_type": "markdown",
      "metadata": {
        "id": "GgWI73DVov3b"
      },
      "source": [
        "# Model"
      ]
    },
    {
      "cell_type": "code",
      "execution_count": null,
      "metadata": {
        "id": "H3W9XO0WOsR2"
      },
      "outputs": [],
      "source": [
        "class Language_Model:\n",
        "    def __init__(self, number_of_agents, number_of_features, max_number_of_states,\n",
        "                 grid_size,shortcut_pct, interaction_likelihood,inheritance_rate_lower,inheritance_rate_higher,\n",
        "                 birth_likelihood,child_relocation_likelihood,birthing_stop):\n",
        "        self.number_of_agents = number_of_agents\n",
        "        self.number_of_features = number_of_features\n",
        "        self.agents = []\n",
        "\n",
        "        self.grid_size = grid_size  # https://stackoverflow.com/questions/2397141/how-to-initialize-a-two-dimensional-array-in-python\n",
        "        self.grid = []\n",
        "        self.cell_list = [] # To prevent multiple agents in single cell\n",
        "        for height in range(self.grid_size):\n",
        "          row = []\n",
        "          for width in range(self.grid_size):\n",
        "            row.append([])\n",
        "          self.grid.append(row)\n",
        "        self.state_values = {}\n",
        "        # Interaction likelihood\n",
        "        self.interaction_likelihood = interaction_likelihood\n",
        "        self.birthing_stop = int(birthing_stop)\n",
        "        self.inheritance_lower = inheritance_rate_lower\n",
        "        self.inheritance_higher = inheritance_rate_higher\n",
        "        self.birthrate = birth_likelihood\n",
        "        self.birth_relocate = child_relocation_likelihood\n",
        "        self.inheritance_list = {}\n",
        "        self.inheritance_states = {}\n",
        "        self.shortcut_pct = shortcut_pct\n",
        "        self.shortcutted_cells = 2*(((self.grid_size)**2)*self.shortcut_pct)\n",
        "        self.shortcut_list = []\n",
        "\n",
        "        while len(self.shortcut_list) <= self.shortcutted_cells:\n",
        "            short_cord = (random.randint(0, grid_size-1),random.randint(0, grid_size-1))\n",
        "            if short_cord not in self.shortcut_list:\n",
        "              self.shortcut_list.append(short_cord)\n",
        "            else:\n",
        "              pass\n",
        "\n",
        "        self.shortcut_pairs = [self.shortcut_list[pos:pos+2] for pos in range(0, int(self.shortcutted_cells), 2)]\n",
        "\n",
        "        for state_id in range(1,number_of_features+1):\n",
        "          number_of_states = random.randint(2, max_number_of_states) # Min 2 states (binary), max 9\n",
        "          self.state_values[f\"Feature_{state_id}\"] = random.sample([\"A\",\"B\",\"C\",\"D\",\"E\",\"F\",\"G\",\"H\",\"I\"], number_of_states)\n",
        "\n",
        "        for agent_id in range(self.number_of_agents):\n",
        "            agent_features = {}\n",
        "            agent_features['agent_id'] = agent_id\n",
        "            agent_features['family'] = f\"family {agent_id}\"\n",
        "            #print(agent_features)\n",
        "            for feature_id in range(1, self.number_of_features + 1):\n",
        "                feature_name = \"Feature_\" + str(feature_id)\n",
        "                feature_value = random.choice(self.state_values[feature_name])\n",
        "                agent_features[feature_name] = feature_value\n",
        "\n",
        "            while True:\n",
        "                x = np.random.randint(0, self.grid_size-1)\n",
        "                y = np.random.randint(0, self.grid_size-1)\n",
        "                cell = (x, y)\n",
        "                if cell not in self.cell_list:\n",
        "                    self.cell_list.append(cell)\n",
        "                    agent_features['cell_location'] = cell\n",
        "                    break\n",
        "\n",
        "            self.grid[x][y].append(agent_features)\n",
        "            self.agents.append(agent_features)\n",
        "\n",
        "    def neighbour_identification(self,cell):\n",
        "        x, y = cell['cell_location']\n",
        "        id = cell['agent_id']\n",
        "        neighbours_list = []\n",
        "\n",
        "        for horizontal in range(-1, 2):\n",
        "            for vertical in range(-1, 2):\n",
        "                #if (horizontal, vertical) != (0, 0):\n",
        "                neighbour_x, neighbour_y = x + horizontal, y + vertical\n",
        "                if 0 <= neighbour_x < self.grid_size and 0 <= neighbour_y < self.grid_size:\n",
        "                    neighbour_cell = (neighbour_x, neighbour_y)\n",
        "                    agents_in_neighbour = self.grid[neighbour_x][neighbour_y]\n",
        "                    neighbours_list.extend(agents_in_neighbour)\n",
        "\n",
        "        if cell in self.shortcut_list:\n",
        "              for pair in self.shortcut_pairs:\n",
        "                if cell in pair:\n",
        "                  for first, second in pair:\n",
        "                    if cell == first:\n",
        "                        neighbours_list.extend(self.grid[second[0]][second[1]])\n",
        "                    if cell == second:\n",
        "                        neighbours_list.extend(self.grid[first[0]][first[1]])\n",
        "\n",
        "        return neighbours_list\n",
        "\n",
        "    def interaction(self,agent_features,neighbour_features):\n",
        "      keys_to_remove = ['agent_id','cell_location','family']\n",
        "      pure_features = agent_features.copy()\n",
        "      for key in keys_to_remove:\n",
        "        del pure_features[key]\n",
        "      absorbed_feature = random.choice(list(pure_features.keys()))\n",
        "      del agent_features[absorbed_feature]\n",
        "      agent_features[absorbed_feature] = neighbour_features[absorbed_feature]\n",
        "      return agent_features\n",
        "\n",
        "    def child_creation(self, parent):\n",
        "        pure_features = parent.copy()\n",
        "        keys_to_remove = ['agent_id','cell_location','family']\n",
        "        for key in keys_to_remove:\n",
        "          del pure_features[key]\n",
        "        child = pure_features.copy()\n",
        "\n",
        "        inheritance_value = (random.uniform(self.inheritance_lower, self.inheritance_higher))\n",
        "\n",
        "        count_to_inherit = round(inheritance_value*len(list(pure_features.keys())),0)\n",
        "        shuffled_features = list(pure_features.keys())\n",
        "        random.shuffle(shuffled_features)                       # https://stackoverflow.com/questions/41168267/is-it-possible-to-create-a-new-list-from-a-shuffled-list\n",
        "\n",
        "        features_to_inherit = shuffled_features[:int(count_to_inherit)]\n",
        "\n",
        "        child['agent_id'] = 'C'+str(len(self.agents)) # Child ID will be 1 more than last, and has C as identifier\n",
        "        self.inheritance_states[child['agent_id']]= {}\n",
        "        child['family']=parent['family']\n",
        "        for feature_name in pure_features:\n",
        "          if feature_name in features_to_inherit:\n",
        "                child[feature_name] = parent[feature_name]\n",
        "                self.inheritance_states[child['agent_id']][feature_name]={\"value\":child[feature_name],\"cause\":\"inherited\"}\n",
        "\n",
        "          else:\n",
        "                feature_n = int(feature_name.split('_')[1].replace('_',''))\n",
        "                child[feature_name] = random.choice(self.state_values[feature_name])\n",
        "                self.inheritance_states[child['agent_id']][feature_name]={\"value\":child[feature_name],\"cause\":\"not inherited\"}\n",
        "        parent_x, parent_y = parent['cell_location']\n",
        "\n",
        "        if random.random() < self.birth_relocate:\n",
        "            random_x_change = random.choice([-1,0,1])\n",
        "            random_y_change = random.choice([-1,0,1])\n",
        "\n",
        "            while (random_x_change == 0 and random_y_change == 0) or ((parent_x-random_x_change < 0) or (parent_x-random_x_change >= self.grid_size) or (parent_y-random_y_change < 0) or (parent_y-random_y_change >= self.grid_size)): # Preventing 0,0 coord == no change\n",
        "                random_x_change = random.choice([-1,0,1])\n",
        "                random_y_change = random.choice([-1,0,1])\n",
        "            child_x, child_y = parent_x-random_x_change, parent_y-random_y_change\n",
        "        else:\n",
        "            child_x, child_y = parent_x, parent_y  # Child starts in the same cell as the parent\n",
        "        self.inheritance_list.update({child['agent_id']:{\"birth_cell\":(child_x, child_y),\"inheritance value\":inheritance_value}})\n",
        "        self.grid[child_x][child_y].append(child)\n",
        "        child['cell_location'] = child_x, child_y\n",
        "        self.agents.append(child)\n",
        "\n",
        "        return child\n",
        "\n",
        "    def run_interaction_step(self,step):\n",
        "        for agent_dict in self.agents:\n",
        "            x, y = agent_dict['cell_location']\n",
        "            agents_in_neighbour = self.neighbour_identification(agent_dict)\n",
        "\n",
        "\n",
        "\n",
        "            #if sum(isinstance(agent_dict, dict) for agent_dict in agents_in_neighbour)>1:\n",
        "            #if agents_in_neighbour:\n",
        "            if (random.random() < self.interaction_likelihood) and len(agents_in_neighbour) >= 2:\n",
        "\n",
        "                      interacting_neighbour = random.choice(agents_in_neighbour)\n",
        "                      while interacting_neighbour['agent_id'] == agent_dict['agent_id']:\n",
        "                          interacting_neighbour = random.choice(agents_in_neighbour)\n",
        "\n",
        "                      agent_dict = self.interaction(agent_dict, interacting_neighbour)\n",
        "            if self.step < self.birthing_stop:\n",
        "                if random.random() < self.birthrate:\n",
        "                    parent = agent_dict\n",
        "                    child = self.child_creation(parent)\n",
        "\n",
        "    def agent_details(self):\n",
        "      print('self.agents')\n",
        "      print(self.agents)\n",
        "      print('-'*20)\n",
        "\n",
        "      for agent in self.agents:\n",
        "        print(agent['cell_location'])\n",
        "\n",
        "      print('self.grid')\n",
        "      print(self.grid)\n",
        "      print('-'*20)\n",
        "\n",
        "      print('self.shortcut_list')\n",
        "      print(self.shortcut_list)\n",
        "      print('-'*20)\n",
        "\n",
        "\n",
        "    def what_is_my_state(self):\n",
        "        agent_states = []\n",
        "        for agent_cell in self.agents:\n",
        "            x, y = agent_cell['cell_location']\n",
        "            agents_in_cell = self.grid[x][y]\n",
        "\n",
        "            for agent in agents_in_cell:\n",
        "                agent_ind_feature = copy.deepcopy(agent)\n",
        "                agent_states.append(agent_ind_feature)\n",
        "\n",
        "        return agent_states\n",
        "\n",
        "\n",
        "    def what_is_my_df(self, agent_states):\n",
        "        agent_data = []\n",
        "        for step, agent_state in enumerate(agent_states):\n",
        "            for agent in agent_state:\n",
        "                agent_id = agent['agent_id']\n",
        "                agent_info = agent.copy()\n",
        "                del agent_info['agent_id']\n",
        "                agent_info['agent_id'] = agent_id\n",
        "                agent_info['step'] = step+1  # Add the step information\n",
        "                agent_data.append(agent_info)\n",
        "\n",
        "        df = pd.DataFrame(agent_data).set_index('agent_id')\n",
        "        return df\n",
        "\n",
        "\n",
        "    def run_simulation(self, num_steps):\n",
        "      feature_space = []\n",
        "      for step in range(num_steps):\n",
        "        self.step = step\n",
        "        self.run_interaction_step(step)\n",
        "\n",
        "        feature_space.append(self.what_is_my_state().copy())\n",
        "      return self.what_is_my_df(feature_space), self.inheritance_list, self.inheritance_states, self.state_values"
      ]
    },
    {
      "cell_type": "markdown",
      "metadata": {
        "id": "YObVWFZ8OsdA"
      },
      "source": [
        "# Measures"
      ]
    },
    {
      "cell_type": "code",
      "execution_count": null,
      "metadata": {
        "id": "GCc_S7HPOvEi"
      },
      "outputs": [],
      "source": [
        "def effect_measures(df,inheritance_dict, inheritance_states):\n",
        "    reindexed_df = df.reset_index()\n",
        "    df = reindexed_df.drop_duplicates(subset=['agent_id', 'step'], keep='first')\n",
        "    df = df.set_index('agent_id')\n",
        "                                                  #https://stackoverflow.com/questions/32093829/remove-duplicates-from-dataframe-based-on-two-columns-a-b-keeping-row-with-max\n",
        "    step_one_df = df.loc[df['step']==1]\n",
        "    step_one_df = step_one_df.drop(['cell_location','step','family'],axis=1)\n",
        "    universal_running = 0\n",
        "    feature_count = 0\n",
        "    preferred_features = {}\n",
        "\n",
        "    initial_states ={}\n",
        "\n",
        "    #print(inheritance_states)\n",
        "    #print(inheritance_dict)\n",
        "\n",
        "    universal_initial = {}\n",
        "\n",
        "    for x in step_one_df.columns:\n",
        "      feature_count += 1\n",
        "      universal_running += (step_one_df[x].value_counts()/len(step_one_df))[0]\n",
        "      universal_initial[x] = (step_one_df[x].value_counts()/len(step_one_df))[0]\n",
        "      preferred_features.update({x:step_one_df[x].value_counts().idxmax()})\n",
        "\n",
        "    for x in step_one_df.index:\n",
        "      initial_states[x] = step_one_df.loc[x, :].values.flatten().tolist()\n",
        "\n",
        "    #print(initial_states)\n",
        "\n",
        "    universal_preference = universal_running/feature_count\n",
        "\n",
        "    inheritance_running = 0\n",
        "    birth_count = len(inheritance_dict.keys())\n",
        "\n",
        "    inherit_update_dict = {}\n",
        "\n",
        "    for key in inheritance_dict:\n",
        "      inheritance_running += inheritance_dict[key]['inheritance value']\n",
        "\n",
        "    if birth_count == 0:\n",
        "        pass\n",
        "    else:\n",
        "        inheritance = inheritance_running/birth_count\n",
        "\n",
        "    birth_states = 0\n",
        "    inherited_values = 0\n",
        "    non_inherited = 0\n",
        "    universal_pref_birth = 0\n",
        "    child_dict = {}\n",
        "    for key in inheritance_states:\n",
        "        child_dict[key]={}\n",
        "        for val in inheritance_states[key]:\n",
        "            child_dict[key][val] =  inheritance_states[key][val]['cause']\n",
        "\n",
        "            birth_states += 1\n",
        "            if child_dict[key][val] == 'inherited':\n",
        "              inherited_values += 1\n",
        "            else:\n",
        "              non_inherited += 1\n",
        "              if preferred_features[val] == inheritance_states[key][val]['value']:\n",
        "                universal_pref_birth += 1\n",
        "\n",
        "\n",
        "    df.index = df.index.astype(str)\n",
        "    for agent in df.index.unique():\n",
        "      if 'C' in agent:\n",
        "          agent_df = df.loc[df.index==agent]\n",
        "          birth_step = agent_df['step'].min()\n",
        "          birth_step_df = agent_df.loc[agent_df['step']==birth_step]\n",
        "          birth_step_df = birth_step_df.drop(['cell_location','step','family'],axis=1)\n",
        "          step_one_df = step_one_df.append(birth_step_df)\n",
        "\n",
        "    child_free_df = df.loc[~df.index.str.contains('C',na=False)]\n",
        "\n",
        "    change_dict = {}\n",
        "    contact_change = 0\n",
        "    for agent in df.index.unique():\n",
        "        agent_df = df.loc[df.index==agent]\n",
        "        agent_df = agent_df.drop(['cell_location','step','family'],axis=1)\n",
        "        agent_total_changes = 0\n",
        "        for feature in agent_df.columns:\n",
        "            agent_df[f\"{feature} change\"] = agent_df[feature].shift(1, fill_value=agent_df[feature].head(1)) != agent_df[feature]\n",
        "            if True in agent_df[f\"{feature} change\"].unique():\n",
        "                contact_change += 1\n",
        "                agent_total_changes += agent_df[f\"{feature} change\"].value_counts()[True]\n",
        "\n",
        "        change_dict[agent] = agent_total_changes\n",
        "    final_step_df = return_final_state(df)\n",
        "\n",
        "\n",
        "\n",
        "    step_one_df.index = step_one_df.index.astype(str)\n",
        "    final_step_df.index = final_step_df.index.astype(str)\n",
        "    causes_dict = {}\n",
        "    for agent in df.index.unique():\n",
        "        causes_dict[agent] = {}\n",
        "        agent_df = df.loc[df.index==agent]\n",
        "        agent_df = agent_df.drop(['cell_location','step','family'],axis=1)\n",
        "        if 'C' in agent:\n",
        "            for x in agent_df.columns:\n",
        "                init_val = step_one_df[x].loc[step_one_df.index==agent][0]\n",
        "                final_val = final_step_df[x].loc[final_step_df.index==agent][0]\n",
        "                whole_col = agent_df[x]\n",
        "                if (init_val == final_val) and (len(whole_col.value_counts()) == 1):\n",
        "                    if child_dict[agent][x] == 'inherited':\n",
        "                        causes_dict[agent][x] = 'inheritance'\n",
        "                    else:\n",
        "                        causes_dict[agent][x] = 'universal preference'\n",
        "\n",
        "                else:\n",
        "                    causes_dict[agent][x] = 'contact'\n",
        "\n",
        "        else:\n",
        "            for x in agent_df.columns:\n",
        "                init_val = step_one_df[x].loc[step_one_df.index==agent][0]\n",
        "                final_val = final_step_df[x].loc[final_step_df.index==agent][0]\n",
        "                whole_col = agent_df[x]\n",
        "\n",
        "                if (init_val == final_val) and (len(whole_col.value_counts()) == 1):\n",
        "                    causes_dict[agent][x] = 'universal preference'\n",
        "\n",
        "                else:\n",
        "                    causes_dict[agent][x] = 'contact'\n",
        "\n",
        "    #print(initial_states)\n",
        "    return pd.DataFrame.from_dict(causes_dict).T, final_step_df, universal_initial\n",
        "#effect_measures(df1, inheritance_dict1, inherit_states1)"
      ]
    },
    {
      "cell_type": "code",
      "execution_count": null,
      "metadata": {
        "id": "T0NgnStqPC-f"
      },
      "outputs": [],
      "source": [
        "def return_final_state(df):\n",
        "    reindexed_df = df.reset_index()\n",
        "    df = reindexed_df.drop_duplicates(subset=['agent_id', 'step'], keep='first')\n",
        "    df = df.set_index('agent_id')\n",
        "\n",
        "    final_step = df['step'].max()\n",
        "    final_step_df = df.loc[df['step']==final_step]\n",
        "    final_step_df['cell_location'] = final_step_df['cell_location'].astype(str)\n",
        "\n",
        "    final_step_df = final_step_df.drop(['step'], axis=1)\n",
        "\n",
        "    return final_step_df\n",
        "\n",
        "# return_final_state(df1)\n"
      ]
    },
    {
      "cell_type": "code",
      "execution_count": null,
      "metadata": {
        "id": "Ycqa1_P6RFbe"
      },
      "outputs": [],
      "source": [
        "def change_coord(df):\n",
        "    df['x'] = df['cell_location'].str.split(',',expand=True)[0].str.replace('(',\"\")\n",
        "    df['y'] = df['cell_location'].str.split(',',expand=True)[1].str.replace(' ',\"\").str.replace(')',\"\")\n",
        "\n",
        "    return df.drop(columns=['cell_location'])\n"
      ]
    },
    {
      "cell_type": "code",
      "execution_count": null,
      "metadata": {
        "id": "0aD4u2bmPPfC"
      },
      "outputs": [],
      "source": [
        "def final_counts(cause_df):\n",
        "\n",
        "  return cause_df.apply(pd.Series.value_counts).head()"
      ]
    },
    {
      "cell_type": "code",
      "execution_count": null,
      "metadata": {
        "id": "F_6Bsth0YZ1l"
      },
      "outputs": [],
      "source": [
        "def cleaner(df):\n",
        "  return df.drop(columns=['family','cell_location'])"
      ]
    },
    {
      "cell_type": "markdown",
      "metadata": {
        "id": "5_xf-gTJj2o9"
      },
      "source": [
        "# Experiments"
      ]
    },
    {
      "cell_type": "markdown",
      "source": [
        "## Statistical Functions"
      ],
      "metadata": {
        "id": "z8HD_KSC_0TG"
      }
    },
    {
      "cell_type": "code",
      "source": [
        "def entropy1(labels, base=None): # https://gist.github.com/virtadpt/a129f94e47c113f983a1ee361f837eb8\n",
        "  value,counts = np.unique(labels, return_counts=True)\n",
        "  return entropy(counts, base=base)\n",
        "\n",
        "def pearson(normalized_entropy):\n",
        "    contact_levels  = list(normalized_entropy.keys())\n",
        "    entropy_values = list(normalized_entropy.values())\n",
        "    corr_coeff, p_val = pearsonr(contact_levels, entropy_values)\n",
        "    return corr_coeff, p_val\n"
      ],
      "metadata": {
        "id": "xh61scuy7XXA"
      },
      "execution_count": null,
      "outputs": []
    },
    {
      "cell_type": "markdown",
      "source": [
        "## Experiment Function"
      ],
      "metadata": {
        "id": "IMCJRrOF7YXF"
      }
    },
    {
      "cell_type": "code",
      "source": [
        "def experiment(number_of_agents,\n",
        "               max_number_of_states,\n",
        "               number_of_features,\n",
        "               grid_size,\n",
        "               shortcut_pct,\n",
        "               inheritance_rate_lower,\n",
        "               inheritance_rate_higher,\n",
        "               birth_likelihood,\n",
        "               child_relocation_likelihood,\n",
        "               birthing_stop,\n",
        "               number_of_iterations):\n",
        "\n",
        "    state_dict = {}\n",
        "    entro_dict = {}\n",
        "    cause_dict = {}\n",
        "    final_dict = {}\n",
        "    uni_dict = {}\n",
        "    perfect_dict = {}\n",
        "    running_effect = {}\n",
        "\n",
        "    whole_dict = {}\n",
        "\n",
        "    contact = 0\n",
        "    while contact <1.01:\n",
        "        total_entropy = 0\n",
        "        perfect_match = 0\n",
        "        feature_n = 0\n",
        "        cause_dict[contact] = {}\n",
        "        final_dict[contact] = {}\n",
        "        uni_dict[contact] = {}\n",
        "        running_effect[contact] = {}\n",
        "\n",
        "        u_p = 0\n",
        "        inh = 0\n",
        "        con = 0\n",
        "        for z in range(0,10):\n",
        "            model = Language_Model(number_of_agents=number_of_agents,                      # Initial number of languages\n",
        "                              max_number_of_states=max_number_of_states,                   # Max number of states (Min is always 2, whatever you put is upper range)\n",
        "                              number_of_features=number_of_features,                    # Number of features per language\n",
        "                              grid_size=grid_size,                             # Size of grid world. If == 20: Grid == 20x20\n",
        "                              shortcut_pct=shortcut_pct,                         # Percentage of cells that will be a shortcut\n",
        "                              interaction_likelihood=contact,               # Chance to have contact with neighbour\n",
        "                              inheritance_rate_lower=inheritance_rate_lower,              # Lower range of inheritance features (I suggest min 51%)\n",
        "                              inheritance_rate_higher=inheritance_rate_higher,             # Max percentage of inheritance (Atleast 1 less than total feature count)\n",
        "                              birth_likelihood=birth_likelihood,                     # Chance to have a child (if they do not interact)\n",
        "                              child_relocation_likelihood=child_relocation_likelihood, # Chance child is born in a neighbouring cell\n",
        "                              birthing_stop=birthing_stop)\n",
        "\n",
        "            df, inheritance_dict, inherit_states, s_v = model.run_simulation(number_of_iterations)\n",
        "\n",
        "            cause, final, universal_scores = effect_measures(df, inheritance_dict, inherit_states)\n",
        "            try:\n",
        "              u_p +=final_counts(cause).loc['universal preference'].sum()\n",
        "            except:\n",
        "              pass\n",
        "            try:\n",
        "              inh +=final_counts(cause).loc['inheritance'].sum()\n",
        "            except:\n",
        "              pass\n",
        "            try:\n",
        "              con +=final_counts(cause).loc['contact'].sum()\n",
        "            except:\n",
        "              pass\n",
        "\n",
        "            for key in s_v:\n",
        "              feature_n+=len(s_v[key])\n",
        "\n",
        "            iter_entropy = 0\n",
        "            for col in cleaner(final).columns:\n",
        "                ent = entropy1(final[col].to_list())\n",
        "                iter_entropy += ent\n",
        "                if (ent == 0) or (ent == 0.0):\n",
        "                  perfect_match += 1\n",
        "            avg_entropy = iter_entropy/len(cleaner(final).columns)\n",
        "            total_entropy += avg_entropy\n",
        "\n",
        "            cause_dict[contact][z] = cause\n",
        "            final_dict[contact][z] = final\n",
        "            uni_dict[contact][z] = universal_scores\n",
        "\n",
        "\n",
        "        perfect_dict[contact] = perfect_match\n",
        "        running_effect[contact]['u_p'] = u_p\n",
        "        running_effect[contact]['inh'] = inh\n",
        "        running_effect[contact]['con'] = con\n",
        "        entro_dict[contact] = total_entropy/10\n",
        "        state_dict[contact] = feature_n/10\n",
        "\n",
        "        whole_dict['perfect_dict'] = perfect_dict\n",
        "        whole_dict['running_dict'] = running_effect\n",
        "        whole_dict['entro_dict'] = entro_dict\n",
        "        whole_dict['state_dict'] = state_dict\n",
        "        whole_dict['cause_dict'] = cause_dict\n",
        "        whole_dict['final_dict'] = final_dict\n",
        "        whole_dict['uni_dict'] = uni_dict\n",
        "\n",
        "        contact+=0.05\n",
        "\n",
        "    normalized_entropy = {}\n",
        "    for x in state_dict.keys():\n",
        "        normalized_entropy[x] = entro_dict[x]/math.log2(state_dict[x])\n",
        "\n",
        "    whole_dict['normalized_entropy'] = normalized_entropy\n",
        "\n",
        "    return whole_dict"
      ],
      "metadata": {
        "id": "PijjEem4Qj-u"
      },
      "execution_count": null,
      "outputs": []
    },
    {
      "cell_type": "markdown",
      "source": [
        "## Running Experiments"
      ],
      "metadata": {
        "id": "FlX4Kfy7_L6n"
      }
    },
    {
      "cell_type": "markdown",
      "source": [
        "### Experiment 1"
      ],
      "metadata": {
        "id": "dKwHRk0JtTDj"
      }
    },
    {
      "cell_type": "code",
      "source": [
        "experiment_1 = experiment(number_of_agents=10,\n",
        "                max_number_of_states=4,\n",
        "                number_of_features=10,\n",
        "                grid_size=8,\n",
        "                shortcut_pct=0.2,\n",
        "                inheritance_rate_lower=0.50,\n",
        "                inheritance_rate_higher=0.90,\n",
        "                birth_likelihood=0.05,\n",
        "                child_relocation_likelihood=0.25,\n",
        "                birthing_stop = 21,\n",
        "                number_of_iterations = 100)"
      ],
      "metadata": {
        "id": "IUpBEnPdtTok"
      },
      "execution_count": null,
      "outputs": []
    },
    {
      "cell_type": "markdown",
      "source": [
        "### Experiment 2"
      ],
      "metadata": {
        "id": "kfkdnl5ytT08"
      }
    },
    {
      "cell_type": "code",
      "source": [
        "experiment_2 = experiment(number_of_agents=20,\n",
        "                max_number_of_states=4,\n",
        "                number_of_features=10,\n",
        "                grid_size=8,\n",
        "                shortcut_pct=0.2,\n",
        "                inheritance_rate_lower=0.50,\n",
        "                inheritance_rate_higher=0.90,\n",
        "                birth_likelihood=0.05,\n",
        "                child_relocation_likelihood=0.25,\n",
        "                birthing_stop = 21,\n",
        "                number_of_iterations = 100)"
      ],
      "metadata": {
        "id": "CKTMeGvftUC3"
      },
      "execution_count": null,
      "outputs": []
    },
    {
      "cell_type": "markdown",
      "source": [
        "### Experiment 3"
      ],
      "metadata": {
        "id": "w3r8W5hXtUTP"
      }
    },
    {
      "cell_type": "code",
      "source": [
        "experiment_3 = experiment(number_of_agents=10,\n",
        "                max_number_of_states=8,\n",
        "                number_of_features=10,\n",
        "                grid_size=8,\n",
        "                shortcut_pct=0.2,\n",
        "                inheritance_rate_lower=0.50,\n",
        "                inheritance_rate_higher=0.90,\n",
        "                birth_likelihood=0.05,\n",
        "                child_relocation_likelihood=0.25,\n",
        "                birthing_stop = 21,\n",
        "                number_of_iterations = 100)"
      ],
      "metadata": {
        "id": "ym8moAJ0tUfd"
      },
      "execution_count": null,
      "outputs": []
    },
    {
      "cell_type": "markdown",
      "source": [
        "### Experiment 4"
      ],
      "metadata": {
        "id": "Jm2Nj8gNtUqU"
      }
    },
    {
      "cell_type": "code",
      "source": [
        "experiment_4 = experiment(number_of_agents=10,\n",
        "                max_number_of_states=4,\n",
        "                number_of_features=20,\n",
        "                grid_size=8,\n",
        "                shortcut_pct=0.2,\n",
        "                inheritance_rate_lower=0.50,\n",
        "                inheritance_rate_higher=0.90,\n",
        "                birth_likelihood=0.05,\n",
        "                child_relocation_likelihood=0.25,\n",
        "                birthing_stop = 21,\n",
        "                number_of_iterations = 100)"
      ],
      "metadata": {
        "id": "0bpW3NpctU1P"
      },
      "execution_count": null,
      "outputs": []
    },
    {
      "cell_type": "markdown",
      "source": [
        "### Experiment 5"
      ],
      "metadata": {
        "id": "qCpcJTQktVBd"
      }
    },
    {
      "cell_type": "code",
      "source": [
        "experiment_5 = experiment(number_of_agents=10,\n",
        "                max_number_of_states=4,\n",
        "                number_of_features=10,\n",
        "                grid_size=16,\n",
        "                shortcut_pct=0.2,\n",
        "                inheritance_rate_lower=0.50,\n",
        "                inheritance_rate_higher=0.90,\n",
        "                birth_likelihood=0.05,\n",
        "                child_relocation_likelihood=0.25,\n",
        "                birthing_stop = 21,\n",
        "                number_of_iterations = 100)"
      ],
      "metadata": {
        "id": "YpcLX5WdtVKe"
      },
      "execution_count": null,
      "outputs": []
    },
    {
      "cell_type": "markdown",
      "source": [
        "### Experiment 6"
      ],
      "metadata": {
        "id": "rmNhaEEwtVRQ"
      }
    },
    {
      "cell_type": "code",
      "source": [
        "experiment_6 = experiment(number_of_agents=10,\n",
        "                max_number_of_states=4,\n",
        "                number_of_features=10,\n",
        "                grid_size=8,\n",
        "                shortcut_pct=0.4,\n",
        "                inheritance_rate_lower=0.50,\n",
        "                inheritance_rate_higher=0.90,\n",
        "                birth_likelihood=0.05,\n",
        "                child_relocation_likelihood=0.25,\n",
        "                birthing_stop = 21,\n",
        "                number_of_iterations = 100)"
      ],
      "metadata": {
        "id": "mbqqwn1DtVY6"
      },
      "execution_count": null,
      "outputs": []
    },
    {
      "cell_type": "markdown",
      "source": [
        "### Experiment 7"
      ],
      "metadata": {
        "id": "I7kH70_WtVh6"
      }
    },
    {
      "cell_type": "code",
      "source": [
        "experiment_7 = experiment(number_of_agents=10,\n",
        "                max_number_of_states=4,\n",
        "                number_of_features=10,\n",
        "                grid_size=8,\n",
        "                shortcut_pct=0.2,\n",
        "                inheritance_rate_lower=0.50,\n",
        "                inheritance_rate_higher=0.90,\n",
        "                birth_likelihood=0.1,\n",
        "                child_relocation_likelihood=0.25,\n",
        "                birthing_stop = 21,\n",
        "                number_of_iterations = 100)"
      ],
      "metadata": {
        "id": "GJ3BQ2xctVp0"
      },
      "execution_count": null,
      "outputs": []
    },
    {
      "cell_type": "markdown",
      "source": [
        "### Experiment 8"
      ],
      "metadata": {
        "id": "y3tZKK_utVyB"
      }
    },
    {
      "cell_type": "code",
      "source": [
        "experiment_8 = experiment(number_of_agents=10,\n",
        "                max_number_of_states=4,\n",
        "                number_of_features=10,\n",
        "                grid_size=8,\n",
        "                shortcut_pct=0.2,\n",
        "                inheritance_rate_lower=0.50,\n",
        "                inheritance_rate_higher=0.90,\n",
        "                birth_likelihood=0.05,\n",
        "                child_relocation_likelihood=0.5,\n",
        "                birthing_stop = 21,\n",
        "                number_of_iterations = 100)"
      ],
      "metadata": {
        "id": "HupcDlyvtV4n"
      },
      "execution_count": null,
      "outputs": []
    },
    {
      "cell_type": "markdown",
      "source": [
        "### Experiment 9"
      ],
      "metadata": {
        "id": "_pPCmdrFtV_M"
      }
    },
    {
      "cell_type": "code",
      "source": [
        "experiment_9 = experiment(number_of_agents=10,\n",
        "                max_number_of_states=4,\n",
        "                number_of_features=10,\n",
        "                grid_size=8,\n",
        "                shortcut_pct=0.2,\n",
        "                inheritance_rate_lower=0.50,\n",
        "                inheritance_rate_higher=0.90,\n",
        "                birth_likelihood=0.05,\n",
        "                child_relocation_likelihood=0.25,\n",
        "                birthing_stop = 41,\n",
        "                number_of_iterations = 100)"
      ],
      "metadata": {
        "id": "2XPCtbMDtWHE"
      },
      "execution_count": null,
      "outputs": []
    },
    {
      "cell_type": "markdown",
      "source": [
        "### Experiment 10"
      ],
      "metadata": {
        "id": "a0_P7ILgtnj0"
      }
    },
    {
      "cell_type": "code",
      "source": [
        "experiment_10 = experiment(number_of_agents=10,\n",
        "                max_number_of_states=4,\n",
        "                number_of_features=10,\n",
        "                grid_size=8,\n",
        "                shortcut_pct=0.2,\n",
        "                inheritance_rate_lower=0.50,\n",
        "                inheritance_rate_higher=0.90,\n",
        "                birth_likelihood=0.05,\n",
        "                child_relocation_likelihood=0.25,\n",
        "                birthing_stop = 21,\n",
        "                number_of_iterations = 200)"
      ],
      "metadata": {
        "id": "a5VzM8gttnwB"
      },
      "execution_count": null,
      "outputs": []
    },
    {
      "cell_type": "markdown",
      "source": [
        "## Visualisations"
      ],
      "metadata": {
        "id": "Algg517vaSN5"
      }
    },
    {
      "cell_type": "code",
      "source": [
        "def visualize_grid(grid_size, agents,shortcut_pairs):\n",
        "    # Create a grid of zeros\n",
        "    grid = [[0] * grid_size for _ in range(grid_size)]\n",
        "    # Mark the positions of the agents on the grid\n",
        "\n",
        "    if isinstance(agents,pd.DataFrame):\n",
        "      agents = change_coord(agents)\n",
        "\n",
        "      for row in list(agents.index):\n",
        "          x = agents.loc[row,'x']\n",
        "          y = agents.loc[row,'y']\n",
        "          row = str(row)\n",
        "          if row.startswith('C'):\n",
        "              if grid[int(x)][int(y)] != 0:\n",
        "                  grid[int(x)][int(y)] = 3\n",
        "              else:\n",
        "                  grid[int(x)][int(y)] = 1\n",
        "          else:\n",
        "              if grid[int(x)][int(y)] != 0:\n",
        "                  grid[int(x)][int(y)] = 3\n",
        "              else:\n",
        "                  grid[int(x)][int(y)] = 2\n",
        "    else:\n",
        "      for agent in agents:\n",
        "        x, y = agent['cell_location']\n",
        "        grid[x][y] = 1\n",
        "\n",
        "    # Create a matplotlib figure and axis\n",
        "    fig, ax = plt.subplots()\n",
        "\n",
        "    pairing = 1\n",
        "    for pair in shortcut_pairs:\n",
        "      x1,y1 = pair[0]\n",
        "      x2,y2=pair[1]\n",
        "      ax.text(y1,x1,str(pairing),ha='center',color='white',fontstyle='oblique')\n",
        "      ax.text(y2,x2,str(pairing),ha='center',color='white',fontstyle='oblique')\n",
        "      pairing+=1\n",
        "\n",
        "    #var_colours = {0:'blue',1:'red',2:'green',3:'purple'}\n",
        "\n",
        "    ax.imshow(grid)\n",
        "\n",
        "\n",
        "    ax.set_xticks(range(grid_size))\n",
        "    ax.set_yticks(range(grid_size))\n",
        "\n",
        "    plt.show()\n",
        "\n",
        "\n",
        "model = Language_Model(number_of_agents=10, max_number_of_states=4, number_of_features=10,grid_size=8, shortcut_pct=0.2,interaction_likelihood=0.5,\n",
        "                       inheritance_rate_lower=0.50,inheritance_rate_higher=0.75,birth_likelihood=0.05,child_relocation_likelihood=0.25,birthing_stop=21)\n",
        "\n",
        "visualize_grid(model.grid_size,model.agents,model.shortcut_pairs)\n",
        "\n",
        "df1, inheritance_dict1, inherit_states1,s_v = model.run_simulation(100)\n",
        "\n",
        "visualize_grid(model.grid_size,return_final_state(df1),model.shortcut_pairs)"
      ],
      "metadata": {
        "id": "9F4_85a3Rkvd"
      },
      "execution_count": null,
      "outputs": []
    },
    {
      "cell_type": "code",
      "source": [
        "all_entropy = {\"Ex. 1\": experiment_1['normalized_entropy'],\n",
        "                   \"Ex. 2\": experiment_2['normalized_entropy'],\n",
        "                   \"Ex. 3\": experiment_3['normalized_entropy'],\n",
        "                   \"Ex. 4\": experiment_4['normalized_entropy'],\n",
        "                   \"Ex. 5\": experiment_5['normalized_entropy'],\n",
        "                   \"Ex. 6\": experiment_6['normalized_entropy'],\n",
        "                   \"Ex. 7\": experiment_7['normalized_entropy'],\n",
        "                   \"Ex. 8\": experiment_8['normalized_entropy'],\n",
        "                   \"Ex. 9\": experiment_9['normalized_entropy'],\n",
        "                   \"Ex. 10\": experiment_10['normalized_entropy']}\n",
        "\n",
        "all_df = pd.DataFrame.from_dict(all_entropy).transpose()\n",
        "\n",
        "all_df\n",
        "plt.figure(figsize=(20, 600))\n",
        "\n",
        "\n",
        "ax = all_df.transpose().plot.line(rot=0,subplots=True)\n",
        "plt.legend(loc='center right', bbox_to_anchor=(1.0, 0.5))\n",
        "\n",
        "plt.xlabel('Interactional Likelihood')\n",
        "plt.ylabel('Normalized Entropy')\n",
        "\n",
        "plt.show()"
      ],
      "metadata": {
        "id": "pHxursQzageq"
      },
      "execution_count": null,
      "outputs": []
    },
    {
      "cell_type": "code",
      "source": [
        "plt.figure(figsize=(20, 20))\n",
        "\n",
        "# https://stackoverflow.com/questions/4700614/how-to-put-the-legend-outside-the-plot\n",
        "ax = all_df.loc[['Ex. 1']].transpose().plot.line(rot=0,grid=True)\n",
        "plt.legend(loc='upper center', bbox_to_anchor=(0.5, 1.05),\n",
        "          ncol=3, fancybox=True, shadow=True)\n",
        "\n",
        "plt.xlabel('Interactional Likelihood')\n",
        "plt.ylabel('Normalized Entropy')\n",
        "\n",
        "plt.show()"
      ],
      "metadata": {
        "id": "XHcXRb9Slg7Z"
      },
      "execution_count": null,
      "outputs": []
    },
    {
      "cell_type": "code",
      "source": [
        "plt.figure(figsize=(20, 20))\n",
        "\n",
        "# https://stackoverflow.com/questions/4700614/how-to-put-the-legend-outside-the-plot\n",
        "ax = all_df.loc[['Ex. 2', 'Ex. 3','Ex. 4']].transpose().plot.line(rot=0,grid=True)\n",
        "plt.legend(loc='upper center', bbox_to_anchor=(0.5, 1.05),\n",
        "          ncol=3, fancybox=True, shadow=True)\n",
        "\n",
        "plt.xlabel('Interactional Likelihood')\n",
        "plt.ylabel('Normalized Entropy')\n",
        "\n",
        "plt.show()"
      ],
      "metadata": {
        "id": "hFlvfl67k2Qt"
      },
      "execution_count": null,
      "outputs": []
    },
    {
      "cell_type": "code",
      "source": [
        "plt.figure(figsize=(20, 20))\n",
        "\n",
        "# https://stackoverflow.com/questions/4700614/how-to-put-the-legend-outside-the-plot\n",
        "ax = all_df.loc[['Ex. 5', 'Ex. 6','Ex. 7']].transpose().plot.line(rot=0,grid=True)\n",
        "plt.legend(loc='upper center', bbox_to_anchor=(0.5, 1.05),\n",
        "          ncol=3, fancybox=True, shadow=True)\n",
        "\n",
        "plt.xlabel('Interactional Likelihood')\n",
        "plt.ylabel('Normalized Entropy')\n",
        "\n",
        "plt.show()"
      ],
      "metadata": {
        "id": "NpdOWeKTlrI-"
      },
      "execution_count": null,
      "outputs": []
    },
    {
      "cell_type": "code",
      "source": [
        "plt.figure(figsize=(20, 20))\n",
        "\n",
        "# https://stackoverflow.com/questions/4700614/how-to-put-the-legend-outside-the-plot\n",
        "ax = all_df.loc[['Ex. 8', 'Ex. 9','Ex. 10']].transpose().plot.line(rot=0,grid=True)\n",
        "plt.legend(loc='upper center', bbox_to_anchor=(0.5, 1.05),\n",
        "          ncol=3, fancybox=True, shadow=True)\n",
        "\n",
        "plt.xlabel('Interactional Likelihood')\n",
        "plt.ylabel('Normalized Entropy')\n",
        "\n",
        "plt.show()"
      ],
      "metadata": {
        "id": "vJhG_WLMk2zZ"
      },
      "execution_count": null,
      "outputs": []
    },
    {
      "cell_type": "code",
      "source": [
        "print(pearson(experiment_1['normalized_entropy']))\n",
        "print(pearson(experiment_2['normalized_entropy']))\n",
        "print(pearson(experiment_3['normalized_entropy']))\n",
        "print(pearson(experiment_4['normalized_entropy']))\n",
        "print(pearson(experiment_5['normalized_entropy']))\n",
        "print(pearson(experiment_6['normalized_entropy']))\n",
        "print(pearson(experiment_7['normalized_entropy']))\n",
        "print(pearson(experiment_8['normalized_entropy']))\n",
        "print(pearson(experiment_9['normalized_entropy']))\n",
        "print(pearson(experiment_10['normalized_entropy']))"
      ],
      "metadata": {
        "id": "0TbMPJMKfKhj"
      },
      "execution_count": null,
      "outputs": []
    }
  ],
  "metadata": {
    "accelerator": "GPU",
    "colab": {
      "collapsed_sections": [
        "ocfdd-XzOntv",
        "GgWI73DVov3b",
        "z8HD_KSC_0TG",
        "IMCJRrOF7YXF",
        "kfkdnl5ytT08",
        "w3r8W5hXtUTP",
        "Jm2Nj8gNtUqU",
        "qCpcJTQktVBd",
        "rmNhaEEwtVRQ",
        "I7kH70_WtVh6",
        "y3tZKK_utVyB",
        "_pPCmdrFtV_M",
        "30Rty4wNtoJA"
      ],
      "machine_shape": "hm",
      "provenance": [],
      "gpuType": "T4"
    },
    "kernelspec": {
      "display_name": "Python 3",
      "name": "python3"
    },
    "language_info": {
      "name": "python"
    }
  },
  "nbformat": 4,
  "nbformat_minor": 0
}